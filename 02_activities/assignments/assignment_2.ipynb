{
 "cells": [
  {
   "cell_type": "markdown",
   "metadata": {},
   "source": [
    "# Practice Interview\n",
    "\n",
    "## Objective\n",
    "\n",
    "_*The partner assignment aims to provide participants with the opportunity to practice coding in an interview context. You will analyze your partner's Assignment 1. Moreover, code reviews are common practice in a software development team. This assignment should give you a taste of the code review process.*_\n",
    "\n",
    "## Group Size\n",
    "\n",
    "Each group should have 2 people. You will be assigned a partner\n",
    "\n",
    "## Part 1:\n",
    "\n",
    "You and your partner must share each other's Assignment 1 submission."
   ]
  },
  {
   "cell_type": "markdown",
   "metadata": {},
   "source": [
    "\n",
    "## Part 2:\n",
    "\n",
    "Create a Jupyter Notebook, create 6 of the following headings, and complete the following for your partner's assignment 1:\n",
    "\n",
    "-   Paraphrase the problem in your own words.\n"
   ]
  },
  {
   "cell_type": "markdown",
   "metadata": {},
   "source": [
    "# Your answer here\n",
    "Paraphrase of question 3:\n",
    "The given input is a list of integers where the values fall within the range [0, n]. The largest value in the given list is n and the list may contain duplicate values. Compare the integers in the list with the full range [0, n]. If any values from the range [0, n] are not present in the list, return those missing values. If all values in the range [0, n] are included in the list, return -1."
   ]
  },
  {
   "cell_type": "markdown",
   "metadata": {},
   "source": [
    "\n",
    "-   Create 1 new example that demonstrates you understand the problem. Trace/walkthrough 1 example that your partner made and explain it.\n"
   ]
  },
  {
   "cell_type": "markdown",
   "metadata": {},
   "source": [
    "# Your answer here\n",
    "# create 1 new example:\n",
    "    input: the given list: [1,3,3]\n",
    "    - the maximum integer is 3\n",
    "    - then the open interval range[0,n] where n = 3, is equal to the closed interval range (0,3+1): list(range(0,4)) -> [0,1,2,3]\n",
    "    - compare the above 2 lists, the numbers that are in the range [0,n] but not in the given list are 0 and 2\n",
    "  - output(return a list of the missing numbers):[0,2]\n",
    "\n",
    "# Trace/walkthrough 1 example that your partner made and explain it.\n",
    "    1 example created by my partner:\n",
    "    - Input: lst = [1, 2, 4, 5]\n",
    "    - the maximum integer is 5\n",
    "    - then the open interval range[0,n] where n = 5, is equal to the closed interval range (0,5+1):\n",
    "    - compare the above 2 lists, the numbers that are in the range [0,n] but not in the given list are 0 and 3\n",
    "    - output(return a list of the missing numbers):[0,3]\n"
   ]
  },
  {
   "cell_type": "markdown",
   "metadata": {},
   "source": [
    "\n",
    "-   Copy the solution your partner wrote. \n"
   ]
  },
  {
   "cell_type": "code",
   "execution_count": null,
   "metadata": {},
   "outputs": [],
   "source": [
    "# Your answer here\n",
    "\n",
    "def missing_num(nums: List[int]) -> List[int]:\n",
    "    # Check if the list is empty\n",
    "    if not nums:\n",
    "        return [-1]\n",
    "    \n",
    "    # Determine the maximum number in the list to define the range correctly\n",
    "    max_num = max(nums)\n",
    "    # Create a set of all numbers in the range [0, max_num]\n",
    "    full_set = set(range(max_num + 1))\n",
    "    # Create a set from the list to remove duplicates\n",
    "    nums_set = set(nums)\n",
    "    # Find the difference between the full set and the nums set\n",
    "    missing_numbers = list(full_set - nums_set)\n",
    "    # Sort the result to maintain numerical order\n",
    "    missing_numbers.sort()\n",
    "    \n",
    "    # If there are no missing numbers, return -1\n",
    "    return missing_numbers if missing_numbers else [-1]"
   ]
  },
  {
   "cell_type": "markdown",
   "metadata": {},
   "source": [
    "\n",
    "-   Explain why their solution works in your own words.\n"
   ]
  },
  {
   "cell_type": "markdown",
   "metadata": {},
   "source": [
    "# Your answer here\n",
    "Why the solution works:\n",
    "- first the base case checks if the given list is empty;\n",
    "- when the list is not empty, it finds the maximum;\n",
    "- number from the given list and use it as n to create the closed interval range (0, n+1) which is equal to open interval range [0, n];\n",
    "- as the list may comtain duplicate values the codes convert both the given list and given range into sets (namely full_set and num_set) which contain only unique values;\n",
    "- by substracting num_set from the full_set, the codes find out if there are values that are included in the range [0, n] but missing from the given list;\n",
    "- the codes also sorts the missing values, if any;\n",
    "- as output, it returns the missing values, if any, in a list or [-1] if there are no missing values.\n"
   ]
  },
  {
   "cell_type": "markdown",
   "metadata": {},
   "source": [
    "\n",
    "-   Explain the problem’s time and space complexity in your own words.\n"
   ]
  },
  {
   "cell_type": "markdown",
   "metadata": {},
   "source": [
    "# Your answer here\n",
    "Time complexity: \n",
    "    - suppose there are M intergers in the given list and the largest interger value is N; \n",
    "    - time complexity of base case check: O(1)\n",
    "    - time complexity of find the maximum in the given list: O(M)\n",
    "    - time complexity of creating the full_set with full_set = set(range(max_num + 1)): O(N)\n",
    "    - time complexity of creating nums_set: O(M)\n",
    "    - time complexity of full_set - nums_set: O(N)\n",
    "    - time complexity sorting missing_numbers: O(N*log(N))\n",
    "    - total time complexity calculation\n",
    "        = O(1) + O(M) + O(N) +  O(M) + O(N) + O(N*log(N))\n",
    "        = O(1+2M+2N + N*log(N))\n",
    "        = O(N*log(N))\n",
    "\n",
    "Space complexity\n",
    "    - suppose there are M intergers in the given list and the largest interger value is N;\n",
    "    - space complexity of storing full_set: O(N)\n",
    "    - space complexity of storing nums_set: O(M)\n",
    "    - space complexity of storing missing_numbers: O(N)\n",
    "    - total space complexity calculation\n",
    "        = O(N) + O(M) + O(N)\n",
    "        = O(N+M) depending on whether N or M is larger\n",
    "\n"
   ]
  },
  {
   "cell_type": "markdown",
   "metadata": {},
   "source": [
    "\n",
    "-   Critique your partner's solution, including explanation, and if there is anything that should be adjusted.\n"
   ]
  },
  {
   "cell_type": "markdown",
   "metadata": {},
   "source": [
    "# Your answer here\n",
    "Suggested adjustments;"
   ]
  },
  {
   "cell_type": "markdown",
   "metadata": {},
   "source": [
    "# Your answer here\n",
    "Suggested adjustments:\n",
    "    1 for the code: \n",
    "        Overall the code effectively meets the requirements with clear logic and produces the correct output. However, the sorting step could be eliminated as it unnecessarily increases the time complexity of the solution.\n",
    "    \n",
    "    2 for the explanation:\n",
    "        While the explanation is generally clear and comprehensible, the analysis of time and space complexity could be more detailed with specific calculation.\n"
   ]
  },
  {
   "cell_type": "markdown",
   "metadata": {},
   "source": [
    "\n",
    "## Part 3:\n",
    "\n",
    "Please write a 200 word reflection documenting your process from assignment 1, and your presentation and review experience with your partner at the bottom of the Jupyter Notebook under a new heading \"Reflection.\" Again, export this Notebook as pdf.\n"
   ]
  },
  {
   "cell_type": "markdown",
   "metadata": {},
   "source": [
    "### Reflection"
   ]
  },
  {
   "cell_type": "markdown",
   "metadata": {},
   "source": [
    "# Your answer here\n",
    "Reflection of my process from Assignment 1:\n",
    "    While completing Assignment 1, I gained proficiency in binary tree structures, traversal methods, and implementing recursive functions using queues and value list updates.\n",
    "    \n",
    "    Since the problem required finding a duplicate value with the minimum distance from the root in a binary tree, I first learned to implement basic tree construction and node traversal mechanisms. I selected BFS traversal method because its level-by-level approach suits the problem the best.\n",
    "\n",
    "    The main challenge I had was to implement recursive functions with dynamic queues and value tracking. I considered both exhaustiveness and efficiency in the value-checking logic. Through this process, I gained experience in managing queue structures and maintaining a seen-value list that updates during recursion, which required careful handling of initial states and iteration-based changes.\n",
    "\n",
    "Reflection of my review experience:\n",
    "    In reviewing my partner's assignment, I gained a deeper understanding of the concepts and implementation of lists, sets, and ranges in Python.Although the input is in list format, the task required comparing two groups of unique values. To facilitate this comparison, my partner converted the list into a set and constructed another related set, named full_set. This demonstrates the key differences between lists and sets\n",
    "    Additionally, I analyzed the time and space complexity of the solution step by step, which  improved my comprehension of each component in the solution.\n"
   ]
  },
  {
   "cell_type": "markdown",
   "metadata": {},
   "source": [
    "\n",
    "## Evaluation Criteria\n",
    "\n",
    "We are looking for the similar points as Assignment 1\n",
    "\n",
    "-   Problem is accurately stated\n",
    "\n",
    "-   New example is correct and easily understandable\n",
    "\n",
    "-   Correctness, time, and space complexity of the coding solution\n",
    "\n",
    "-   Clarity in explaining why the solution works, its time and space complexity\n",
    "\n",
    "-   Quality of critique of your partner's assignment, if necessary\n"
   ]
  },
  {
   "cell_type": "markdown",
   "metadata": {},
   "source": [
    "## Submission Information\n",
    "\n",
    "🚨 **Please review our [Assignment Submission Guide](https://github.com/UofT-DSI/onboarding/blob/main/onboarding_documents/submissions.md)** 🚨 for detailed instructions on how to format, branch, and submit your work. Following these guidelines is crucial for your submissions to be evaluated correctly.\n",
    "\n",
    "### Submission Parameters:\n",
    "* Submission Due Date: `HH:MM AM/PM - DD/MM/YYYY`\n",
    "* The branch name for your repo should be: `assignment-2`\n",
    "* What to submit for this assignment:\n",
    "    * This Jupyter Notebook (assignment_2.ipynb) should be populated and should be the only change in your pull request.\n",
    "* What the pull request link should look like for this assignment: `https://github.com/<your_github_username>/algorithms_and_data_structures/pull/<pr_id>`\n",
    "    * Open a private window in your browser. Copy and paste the link to your pull request into the address bar. Make sure you can see your pull request properly. This helps the technical facilitator and learning support staff review your submission easily.\n",
    "\n",
    "Checklist:\n",
    "- [ ] Created a branch with the correct naming convention.\n",
    "- [ ] Ensured that the repository is public.\n",
    "- [ ] Reviewed the PR description guidelines and adhered to them.\n",
    "- [ ] Verify that the link is accessible in a private browser window.\n",
    "\n",
    "If you encounter any difficulties or have questions, please don't hesitate to reach out to our team via our Slack at `#cohort-3-help`. Our Technical Facilitators and Learning Support staff are here to help you navigate any challenges.\n"
   ]
  }
 ],
 "metadata": {
  "language_info": {
   "name": "python"
  }
 },
 "nbformat": 4,
 "nbformat_minor": 2
}
