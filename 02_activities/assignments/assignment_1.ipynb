{
 "cells": [
  {
   "cell_type": "markdown",
   "metadata": {},
   "source": [
    "# Coding Problems\n",
    "\n",
    "## Objective\n",
    "\n",
    "This assignment aims to demonstrate how to study a data structures or algorithms question in depth to prepare for an industry coding interview. Leetcode is a popular coding practice site that many use to practice for technical interviews. Like behavioral interviews, it's important to practice and keep your skills sharp.\n",
    "\n",
    "## Group Size\n",
    "\n",
    "Please complete this individually.\n",
    "\n",
    "## Part 1:\n",
    "\n",
    "_*You will be assigned one of three problems based of your first name. Execute the code below, and that will tell you your assigned problem. Include the output as part of your submission (do not clear the output). The problems are based-off problems from Leetcode.*_\n"
   ]
  },
  {
   "cell_type": "code",
   "execution_count": 1,
   "metadata": {},
   "outputs": [
    {
     "name": "stdout",
     "output_type": "stream",
     "text": [
      "1\n"
     ]
    }
   ],
   "source": [
    "print((hash('Mung O') % 3) + 1)"
   ]
  },
  {
   "cell_type": "markdown",
   "metadata": {},
   "source": [
    "<details>\n",
    "  <summary>Question 1</summary>\n",
    "\n",
    "  # Question One: Check Duplicates in Tree\n",
    "\n",
    "  Given the `root` of a binary tree, check whether it is contains a duplicate value. If a duplicate exists, return the duplicate value. If there are multiple duplicates, return the one with the closest distance to the root. If no duplicate exists, return -1.\n",
    "\n",
    "  ## Examples\n",
    "\n",
    "  ### Example 1\n",
    "\n",
    "  ![](./images/q1_ex1.png)\n",
    "\n",
    "  Input: `root = [1, 2, 2, 3, 5, 6, 7]` *What traversal method is this?*\n",
    "\n",
    "  Output: 2\n",
    "\n",
    "  ### Example 2\n",
    "\n",
    "  ![](./images/q1_ex2.png)\n",
    "\n",
    "  Input: `root = [1, 10, 2, 3, 10, 12, 12]`\n",
    "\n",
    "  Output: 10\n",
    "\n",
    "  ### Example 3\n",
    "\n",
    "  ![](./images/q1_ex3.png)\n",
    "\n",
    "  Input: `root = [10, 9, 8, 7]`\n",
    "\n",
    "  Output: -1\n",
    "\n",
    "</details>\n",
    "\n",
    "#### Starter Code for Question 1"
   ]
  },
  {
   "cell_type": "code",
   "execution_count": 2,
   "metadata": {},
   "outputs": [
    {
     "ename": "IndentationError",
     "evalue": "expected an indented block (2850872121.py, line 8)",
     "output_type": "error",
     "traceback": [
      "\u001b[0;36m  Cell \u001b[0;32mIn[2], line 8\u001b[0;36m\u001b[0m\n\u001b[0;31m    # TODO\u001b[0m\n\u001b[0m          ^\u001b[0m\n\u001b[0;31mIndentationError\u001b[0m\u001b[0;31m:\u001b[0m expected an indented block\n"
     ]
    }
   ],
   "source": [
    "# Definition for a binary tree node.\n",
    "# class TreeNode(object):\n",
    "#     def __init__(self, val = 0, left = None, right = None):\n",
    "#         self.val = val\n",
    "#         self.left = left\n",
    "#         self.right = right\n",
    "def is_duplicate(root: TreeNode) -> int:\n",
    "  # TODO"
   ]
  },
  {
   "cell_type": "markdown",
   "metadata": {},
   "source": [
    "<details>\n",
    "  <summary>Question 2</summary>\n",
    "\n",
    "  # Question Two: Path to Leaves\n",
    "\n",
    "  Given the `root` of a binary tree, return all root to leaf paths in any order.\n",
    "\n",
    "  ## Examples\n",
    "\n",
    "  ### Example 1\n",
    "\n",
    "  ![](./images/q1_ex1.png)\n",
    "\n",
    "  Input: `root = [1, 2, 2, 3, 5, 6, 7]` *What traversal method is this?*\n",
    "\n",
    "  Output: [[1, 2, 3], [1, 2, 5], [1, 2, 6], [1, 2, 7]]\n",
    "\n",
    "  ### Example 2\n",
    "\n",
    "  ![](./images/q1_ex3.png)\n",
    "\n",
    "  Input: `root = [10, 9, 7, 8]`\n",
    "\n",
    "  Output: [[10, 7], [10, 9, 8]]\n",
    "\n",
    "</details>\n",
    "\n",
    "#### Starter Code for Question 2"
   ]
  },
  {
   "cell_type": "code",
   "execution_count": null,
   "metadata": {},
   "outputs": [],
   "source": [
    "# Definition for a binary tree node.\n",
    "# class TreeNode(object):\n",
    "#     def __init__(self, val = 0, left = None, right = None):\n",
    "#         self.val = val\n",
    "#         self.left = left\n",
    "#         self.right = right\n",
    "def bt_path(root: TreeNode) -> List[List[int]]:\n",
    "  # TODO"
   ]
  },
  {
   "cell_type": "markdown",
   "metadata": {},
   "source": [
    "<details>\n",
    "  <summary>Question 3</summary>\n",
    "\n",
    "  # Question Three: Missing Number in Range\n",
    " \n",
    "  You are given a list containing `n` integers in the range `[0, n]`. Return a list of numbers that are missing from the range `[0, n]` of the array. If there is no missing number, return -1. Note, all the integers in the list may not be unique.\n",
    "  \n",
    "  ## Examples\n",
    "\n",
    "  ### Example 1\n",
    "\n",
    "  Input: `lst = [0, 2]`\n",
    "\n",
    "  Output: [1]\n",
    "\n",
    "  ### Example 2\n",
    "\n",
    "  Input: `lst = [5, 0, 1]`\n",
    "\n",
    "  Output: [2, 3, 4]\n",
    "\n",
    "  ### Example 3\n",
    "\n",
    "  Input: `lst = [6, 8, 2, 3, 5, 7, 0, 1, 10]`\n",
    "\n",
    "  Output: [4, 9]\n",
    "\n",
    "</details>\n",
    "\n",
    "#### Starter Code for Question 3\n"
   ]
  },
  {
   "cell_type": "code",
   "execution_count": null,
   "metadata": {},
   "outputs": [],
   "source": [
    "def missing_num(nums: List) -> int:\n",
    "  # TODO"
   ]
  },
  {
   "cell_type": "markdown",
   "metadata": {},
   "source": [
    "\n",
    "## Part 2:\n",
    "\n",
    "-   Paraphrase the problem in your own words\n"
   ]
  },
  {
   "cell_type": "markdown",
   "metadata": {},
   "source": [
    "# Your answer here\n",
    "Paraphrase the problem: \n",
    "Traverse a binary tree using the BFS method, enqueuing the elements in level order (because BFS processes nodes from the root to the deepest nodes, level by level). For each element, check(=see) if its value has already been checked/seen (i.e., if a duplicate value exists). \n",
    "If a match is found, return the matched value and stop. \n",
    "If no match is found, add the current element into a seen list and remove the first element from the queue and proceed to check the next element. Continue this process until all nodes have been checked. \n",
    "If all nodes values are checked and no values of any 2 elements match, return \"-1\"."
   ]
  },
  {
   "cell_type": "markdown",
   "metadata": {},
   "source": [
    "- In this .ipynb file, there are examples that illustrate how the code should work (the examples provided above). Create 2 new examples for the question you have been assigned, that demonstrate you understand the problem. For question 1 and 2, you don't need to create the tree demonstration, just the input and output.\n"
   ]
  },
  {
   "cell_type": "code",
   "execution_count": 3,
   "metadata": {},
   "outputs": [],
   "source": [
    "#Your answer here\n",
    "#New example 1: input: root = [1, 3, 5, 3, 5, 6, 7] (BFS traversal method); ouput: 3;\n",
    "root1 = Node(1)\n",
    "root1.left = Node(3) #duplicate\n",
    "root1.right = Node(5)\n",
    "root1.left.left = Node(3) #duplicate\n",
    "root1.left.right = Node(5)\n",
    "root1.right.left = Node(6)\n",
    "root1.right.right = Node(7)\n",
    "#New example 2: input: root = [2, 3, 2, 4, 5, 6, 7] (BFS traversal method); ouput: 2;\n",
    "root2 = Node(2) #duplicate\n",
    "root2.left = Node(3)\n",
    "root2.right = Node(2) #duplicate\n",
    "root2.left.left = Node(4)\n",
    "root2.left.right = Node(5)\n",
    "root2.right.left = Node(6)\n",
    "root2.right.right = Node(7)\n",
    "\n"
   ]
  },
  {
   "cell_type": "markdown",
   "metadata": {},
   "source": [
    "\n",
    "-   Code the solution to your assigned problem in Python (code chunk). Try to find the best time and space complexity solution!\n"
   ]
  },
  {
   "cell_type": "code",
   "execution_count": 5,
   "metadata": {},
   "outputs": [
    {
     "name": "stdout",
     "output_type": "stream",
     "text": [
      "3\n",
      "2\n"
     ]
    }
   ],
   "source": [
    "# Your answer here\n",
    "from collections import deque\n",
    "\n",
    "class Node:\n",
    "    def __init__(self, val=0, left=None, right=None):\n",
    "        self.val = val\n",
    "        self.left = left\n",
    "        self.right = right\n",
    "\n",
    "def bfs_recursive(queue, seen):\n",
    "    if not queue:\n",
    "        return -1  # if the queue(updated queue) is empty, no duplicates is found\n",
    "    \n",
    "    # Process the first node in the queue\n",
    "    current_vertex = queue[0]\n",
    "    \n",
    "    # Check if the current vertex's value has been seen before\n",
    "    if current_vertex.val in seen:\n",
    "        return current_vertex.val  # Return the duplicate value\n",
    "    \n",
    "    # Add the current vertex's value to the seen set\n",
    "    seen.add(current_vertex.val)\n",
    "    \n",
    "    #if there are next levels/child nodes from the current_vertex, get the nodes from the next level of the tree\n",
    "    next_level = []\n",
    "    if current_vertex.left:\n",
    "        next_level.append(current_vertex.left)\n",
    "    if current_vertex.right:\n",
    "        next_level.append(current_vertex.right)\n",
    "    \n",
    "    #update the queue by removing the first element and add the next level child nodes of the previously first elements\n",
    "    return bfs_recursive(queue[1:] + next_level, seen) \n",
    "\n",
    "def find_duplicate(root):\n",
    "    #check if the tree is empty or has only 1 node, then there's no chance of duplication\n",
    "    if not root or (not root.left and not root.right):\n",
    "        return \"tree size invalid for the problem\"\n",
    "    \n",
    "    #start with a queue with the root as the 1st element (= node top level) and an empty set for tracking seen values\n",
    "    initial_queue = [root]\n",
    "    seen = set()\n",
    "    return bfs_recursive(initial_queue, seen)\n",
    "\n",
    "\n",
    "#Example 1 and 2: as constructed in previous questions\n",
    "#New example 1: input: root = [1, 3, 5, 3, 5, 6, 7] (BFS traversal method); ouput: 3;\n",
    "root1 = Node(1)\n",
    "root1.left = Node(3) #duplicate\n",
    "root1.right = Node(5)\n",
    "root1.left.left = Node(3) #duplicate\n",
    "root1.left.right = Node(5)\n",
    "root1.right.left = Node(6)\n",
    "root1.right.right = Node(7)\n",
    "\n",
    "#New example 2: input: root = [2, 3, 2, 4, 5, 6, 7] (BFS traversal method); ouput: 2;\n",
    "root2 = Node(2) #duplicate\n",
    "root2.left = Node(3)\n",
    "root2.right = Node(2) #duplicate\n",
    "root2.left.left = Node(4)\n",
    "root2.left.right = Node(5)\n",
    "root2.right.left = Node(6)\n",
    "root2.right.right = Node(7)\n",
    "\n",
    "# Testing the function\n",
    "print(find_duplicate(root1)) \n",
    "print(find_duplicate(root2)) \n",
    "\n"
   ]
  },
  {
   "cell_type": "markdown",
   "metadata": {},
   "source": [
    "\n",
    "-   Explain why your solution works\n"
   ]
  },
  {
   "cell_type": "markdown",
   "metadata": {},
   "source": [
    "# Your answer here\n",
    "Explanation part 1: the find_duplicate(root) part:\n",
    "    - check if the tree is empty or has only 1 node, then there's no chance of duplication\n",
    "    - start with the root as the 1st element (= node in the top level) and have an empty set to strack seen values\n",
    "    - the above give the initial input for the function \"find_duplicate(root)\"\n",
    "    \n",
    "Explanation part 2: the bfs_recursive(queue, seen) part:\n",
    "    - 1 this is a recursive function\n",
    "    - 2 basically it checks the first element (\"current_vertex = queue[0]\" ) in an updated queue (the input \"queue\") has any value match in a tracking set of checked elements (the input \"seen\")\n",
    "    - 3 if there is a match, the value is returned; if no match, it will add the child nodes of that element to the queue and then remove the now cheked element from the queue; \n",
    "    - 4 Now, the queue is updated and the seen set is updated. Another round of matching process can repeat.  \n",
    "    - 5 If no match is found after it go through all the elements in the tree, then \"-1\" is found.\n",
    "    - 6 point 3 above means that the nodes in the tree in checked level by level from the top to the bottom and added to the queue. So it will stop when a match in an upper level is found  - which satisfy the question requirement that \"return the one with the closest distance to the root.\"\n",
    "    "
   ]
  },
  {
   "cell_type": "markdown",
   "metadata": {},
   "source": [
    "\n",
    "-   Explain the problem’s time and space complexity\n"
   ]
  },
  {
   "cell_type": "markdown",
   "metadata": {},
   "source": [
    "# Your answer here\n",
    "\n",
    "Time complexity:\n",
    "    - base case of find_duplicate: check if the tree has 0 or 1 nodes - O(1) \n",
    "    - base case of bfs_recursive: check if the queue is empty - O(1) \n",
    "    - bfs_recursive - the BFS method checks each node once in the tree and put elements in to the queue - O(N), this is the base for the recursive call\n",
    "    - bfs_recursive - at each node,\n",
    "        - (1) check the current_vertex has a value match in a set - O(1) \n",
    "        - (2) if no match, to add it to the seen set -  O(1);\n",
    "        - (3) if no match, if there are next level nodes to the current_vertex, add it to the queue - O(1) \n",
    "        - (4) if no match, remove the first element from the queue - O(N)\n",
    "    \n",
    "    - TOTAL time complexity:\n",
    "        = O(1) + (O(1) + O(N)) * (O(1) + O(1) + O(1) + O(N))\n",
    "        = O(1) + O(N) * O(N)\n",
    "        = O(1) + O(N^2)\n",
    "        = O(N^2)\n",
    "\n",
    "Space complexity:\n",
    "    - the queue: the maximum number of nodes that the queue can hold at any one time - 2 levels of the tree ~ O(N) \n",
    "    - seen set: the masimum number of nodes ~ O(N)\n",
    "    - recursive call: each recursive call processes one node at a time\n",
    "\n",
    "    - TOTAL space complexity\n",
    "        = O(N) +  O(N) +  O(N)\n",
    "        = O(N) \n"
   ]
  },
  {
   "cell_type": "markdown",
   "metadata": {},
   "source": [
    "\n",
    "-   Explain the thinking to an alternative solution (no coding required, but a classmate reading this should be able to code it up based off your text)\n"
   ]
  },
  {
   "cell_type": "markdown",
   "metadata": {},
   "source": [
    "# Your answer here\n",
    "- use a hash map to track both the values and depth of the nodes\n",
    "- use DFS traversal method to find out all the nodes where there are duplicated values and store them (= nodes with duplicateed value).\n",
    "- in all the nodes with duplicateed value, find the one with minimum depth and return the value of that node "
   ]
  },
  {
   "cell_type": "markdown",
   "metadata": {},
   "source": [
    "## Evaluation Criteria\n",
    "\n",
    "-   Problem is accurately stated\n",
    "\n",
    "-   Two examples are correct and easily understandable\n",
    "\n",
    "-   Correctness, time, and space complexity of the coding solution\n",
    "\n",
    "-   Clarity in explaining why the solution works, its time and space complexity\n",
    "\n",
    "-   Clarity in the proposal to the alternative solution"
   ]
  },
  {
   "cell_type": "markdown",
   "metadata": {},
   "source": [
    "## Submission Information\n",
    "\n",
    "🚨 **Please review our [Assignment Submission Guide](https://github.com/UofT-DSI/onboarding/blob/main/onboarding_documents/submissions.md)** 🚨 for detailed instructions on how to format, branch, and submit your work. Following these guidelines is crucial for your submissions to be evaluated correctly.\n",
    "\n",
    "### Submission Parameters:\n",
    "* Submission Due Date: `HH:MM AM/PM - DD/MM/YYYY`\n",
    "* The branch name for your repo should be: `assignment-1`\n",
    "* What to submit for this assignment:\n",
    "    * This Jupyter Notebook (assignment_1.ipynb) should be populated and should be the only change in your pull request.\n",
    "* What the pull request link should look like for this assignment: `https://github.com/<your_github_username>/algorithms_and_data_structures/pull/<pr_id>`\n",
    "    * Open a private window in your browser. Copy and paste the link to your pull request into the address bar. Make sure you can see your pull request properly. This helps the technical facilitator and learning support staff review your submission easily.\n",
    "\n",
    "Checklist:\n",
    "- [ ] Create a branch called `assignment-1`.\n",
    "- [ ] Ensure that the repository is public.\n",
    "- [ ] Review [the PR description guidelines](https://github.com/UofT-DSI/onboarding/blob/main/onboarding_documents/submissions.md#guidelines-for-pull-request-descriptions) and adhere to them.\n",
    "- [ ] Verify that the link is accessible in a private browser window.\n",
    "\n",
    "If you encounter any difficulties or have questions, please don't hesitate to reach out to our team via our Slack at `#cohort-3-help`. Our Technical Facilitators and Learning Support staff are here to help you navigate any challenges."
   ]
  }
 ],
 "metadata": {
  "kernelspec": {
   "display_name": "Python 3",
   "language": "python",
   "name": "python3"
  },
  "language_info": {
   "codemirror_mode": {
    "name": "ipython",
    "version": 3
   },
   "file_extension": ".py",
   "mimetype": "text/x-python",
   "name": "python",
   "nbconvert_exporter": "python",
   "pygments_lexer": "ipython3",
   "version": "3.9.19"
  }
 },
 "nbformat": 4,
 "nbformat_minor": 2
}
